{
 "cells": [
  {
   "cell_type": "code",
   "execution_count": 25,
   "metadata": {},
   "outputs": [
    {
     "data": {
      "text/plain": [
       "CPTspec with probabilities:\n",
       " P( asia )\n",
       " P( tub | asia )\n",
       " P( smoke )\n",
       " P( lung | smoke )\n",
       " P( bronc | smoke )\n",
       " P( either | lung tub )\n",
       " P( xray | either )\n",
       " P( dysp | bronc either )"
      ]
     },
     "metadata": {},
     "output_type": "display_data"
    },
    {
     "data": {
      "text/plain": [
       "asia\n",
       " yes   no \n",
       "0.01 0.99 \n",
       "attr(,\"class\")\n",
       "[1] \"parray\" \"array\" "
      ]
     },
     "metadata": {},
     "output_type": "display_data"
    }
   ],
   "source": [
    "# source(\"http://bioconductor.org/biocLite.R\")\n",
    "#  biocLite(c(\"graph\", \"RBGL\", \"Rgraphviz\"))\n",
    "# install.packages(\"gRain\", dependencies=TRUE, repos = \"http://cran.us.r-project.org\")\n",
    "# install.packages(\"Rgraphviz\")\n",
    "require(gRain)\n",
    "require(Rgraphviz)\n",
    "# b = parray(varNames = 'Burglary', levels = list(c('T','F')), values = c(.001,.999), normalize = 'all')\n",
    "# e = cptable(~Earthquake, levels = c('T','F'), values = c(.002,.998))\n",
    "# a.be = cptable(~Alarm|Burglary:Earthquake, levels = c('T','F'), values = c(.95,.05,.94,.06,.29,.71,.001,.999))\n",
    "# j.a = cptable(~JohnCalls|Alarm, levels=c('T','F'),values=c(.9,.1,.05,.95))\n",
    "# m.a = cptable(~MaryCalls|Alarm, levels=c('T','F'),values=c(.7,.3,.01,.99))\n",
    "# cpt.list = compileCPT(list(b,e,a.be,j.a,m.a))\n",
    "# bnet = grain(cpt.list)\n",
    "# bnet = compile(bnet)\n",
    "# bnet.ev = setEvidence(bnet, nodes='JohnCalls',states='T')\n",
    "# querygrain(bnet.ev,nodes=c('Burglary'))\n",
    "yn <- c(\"yes\",\"no\")\n",
    "a <- cptable(~asia, values=c(1,99), levels=yn)\n",
    "t.a <- cptable(~tub | asia, values=c(5,95,1,99), levels=yn)\n",
    "s <- cptable(~smoke, values=c(5,5), levels=yn)\n",
    "l.s <- cptable(~lung | smoke, values=c(1,9,1,99), levels=yn)\n",
    "b.s <- cptable(~bronc | smoke, values=c(6,4,3,7), levels=yn)\n",
    "e.lt <- cptable(~either | lung:tub,values=c(1,0,1,0,1,0,0,1),levels=yn)\n",
    "x.e <- cptable(~xray | either, values=c(98,2,5,95), levels=yn)\n",
    "d.be<-cptable(~dysp|bronc:either, values=c(9,1,7,3,8,2,1,9),levels=yn)\n",
    "cpt.list <- compileCPT(list(a, t.a, s, l.s, b.s, e.lt, x.e, d.be))\n",
    "cpt.list\n",
    "cpt.list$asia "
   ]
  },
  {
   "cell_type": "code",
   "execution_count": 11,
   "metadata": {},
   "outputs": [
    {
     "data": {
      "text/plain": [
       "     asia\n",
       "tub    yes   no\n",
       "  yes 0.05 0.01\n",
       "  no  0.95 0.99\n",
       "attr(,\"class\")\n",
       "[1] \"parray\" \"array\" "
      ]
     },
     "metadata": {},
     "output_type": "display_data"
    }
   ],
   "source": [
    "cpt.list$tub"
   ]
  },
  {
   "cell_type": "code",
   "execution_count": 12,
   "metadata": {},
   "outputs": [
    {
     "data": {
      "text/plain": [
       "smoke\n",
       "yes  no \n",
       "0.5 0.5 \n",
       "attr(,\"class\")\n",
       "[1] \"parray\" \"array\" "
      ]
     },
     "metadata": {},
     "output_type": "display_data"
    }
   ],
   "source": [
    "cpt.list$smoke"
   ]
  },
  {
   "cell_type": "code",
   "execution_count": 13,
   "metadata": {},
   "outputs": [
    {
     "data": {
      "text/plain": [
       "     smoke\n",
       "lung  yes   no\n",
       "  yes 0.1 0.01\n",
       "  no  0.9 0.99\n",
       "attr(,\"class\")\n",
       "[1] \"parray\" \"array\" "
      ]
     },
     "metadata": {},
     "output_type": "display_data"
    }
   ],
   "source": [
    "cpt.list$lung"
   ]
  },
  {
   "cell_type": "code",
   "execution_count": 14,
   "metadata": {},
   "outputs": [
    {
     "data": {
      "text/plain": [
       "     smoke\n",
       "bronc yes  no\n",
       "  yes 0.6 0.3\n",
       "  no  0.4 0.7\n",
       "attr(,\"class\")\n",
       "[1] \"parray\" \"array\" "
      ]
     },
     "metadata": {},
     "output_type": "display_data"
    }
   ],
   "source": [
    "cpt.list$bronc"
   ]
  },
  {
   "cell_type": "code",
   "execution_count": 15,
   "metadata": {},
   "outputs": [
    {
     "data": {
      "text/plain": [
       "       lung yes     no   \n",
       "       tub  yes no yes no\n",
       "either                   \n",
       "yes           1  1   1  0\n",
       "no            0  0   0  1"
      ]
     },
     "metadata": {},
     "output_type": "display_data"
    }
   ],
   "source": [
    "ftable(cpt.list$either,row.vars = 1)"
   ]
  },
  {
   "cell_type": "code",
   "execution_count": 16,
   "metadata": {},
   "outputs": [
    {
     "data": {
      "text/plain": [
       "     either\n",
       "xray   yes   no\n",
       "  yes 0.98 0.05\n",
       "  no  0.02 0.95\n",
       "attr(,\"class\")\n",
       "[1] \"parray\" \"array\" "
      ]
     },
     "metadata": {},
     "output_type": "display_data"
    }
   ],
   "source": [
    " cpt.list$xray"
   ]
  },
  {
   "cell_type": "code",
   "execution_count": 52,
   "metadata": {},
   "outputs": [
    {
     "data": {
      "image/png": "[encoded data removed]",
      "text/plain": [
       "plot without title"
      ]
     },
     "metadata": {},
     "output_type": "display_data"
    }
   ],
   "source": [
    "bnet = grain(cpt.list)\n",
    "bnet = compile(bnet)\n",
    "# drawing the moralize, triangulate and junction tree for the bnet dag\n",
    "par(mfrow=c(2,2))#allocating 2x2 display\n",
    "plot(bnet$dag)#original dag (1,1)\n",
    "plot(moralize(bnet$dag))#moralize form (1,2)\n",
    "plot(triangulate(moralize(bnet$dag)))#triangulate form (2,1)\n",
    "plot(jTree(triangulate(moralize(bnet$dag))))# junction tree (2,2)"
   ]
  },
  {
   "cell_type": "code",
   "execution_count": 63,
   "metadata": {},
   "outputs": [
    {
     "name": "stdout",
     "output_type": "stream",
     "text": [
      "Please ignore the below error, output is below that error"
     ]
    },
    {
     "name": "stderr",
     "output_type": "stream",
     "text": [
      "ERROR while rich displaying an object: Error in dn[[2L]]: subscript out of bounds\n",
      "\n",
      "Traceback:\n",
      "1. FUN(X[[i]], ...)\n",
      "2. tryCatch(withCallingHandlers({\n",
      " .     rpr <- mime2repr[[mime]](obj)\n",
      " .     if (is.null(rpr)) \n",
      " .         return(NULL)\n",
      " .     prepare_content(is.raw(rpr), rpr)\n",
      " . }, error = error_handler), error = outer_handler)\n",
      "3. tryCatchList(expr, classes, parentenv, handlers)\n",
      "4. tryCatchOne(expr, names, parentenv, handlers[[1L]])\n",
      "5. doTryCatch(return(expr), name, parentenv, handler)\n",
      "6. withCallingHandlers({\n",
      " .     rpr <- mime2repr[[mime]](obj)\n",
      " .     if (is.null(rpr)) \n",
      " .         return(NULL)\n",
      " .     prepare_content(is.raw(rpr), rpr)\n",
      " . }, error = error_handler)\n",
      "7. mime2repr[[mime]](obj)\n",
      "8. repr_markdown.list(obj)\n",
      "9. repr_list_generic(obj, \"markdown\", \"%s. %s\\n\", \"$%s\\n:   %s\\n\", \n",
      " .     \"**$%s** = %s\", \"%s\\n\\n\", numeric_item = \"[[%s]]\\n:   %s\\n\", \n",
      " .     item_uses_numbers = TRUE, escape_fun = html_escape)\n",
      "10. lapply(vec, format2repr[[fmt]])\n",
      "11. FUN(X[[i]], ...)\n",
      "12. repr_markdown.numeric(X[[i]], ...)\n",
      "13. repr_vector_generic(html_escape_names(obj), \"%s. %s\\n\", \"%s\\n:   %s\", \n",
      "  .     \"**%s:** %s\", \"%s\\n\\n\", item_uses_numbers = TRUE, escape_fun = html_escape)\n",
      "14. html_escape_names(obj)\n",
      "15. .escape_names(obj, \"html\")\n",
      "16. colnames(obj)\n",
      "ERROR while rich displaying an object: Error in dn[[2L]]: subscript out of bounds\n",
      "\n",
      "Traceback:\n",
      "1. FUN(X[[i]], ...)\n",
      "2. tryCatch(withCallingHandlers({\n",
      " .     rpr <- mime2repr[[mime]](obj)\n",
      " .     if (is.null(rpr)) \n",
      " .         return(NULL)\n",
      " .     prepare_content(is.raw(rpr), rpr)\n",
      " . }, error = error_handler), error = outer_handler)\n",
      "3. tryCatchList(expr, classes, parentenv, handlers)\n",
      "4. tryCatchOne(expr, names, parentenv, handlers[[1L]])\n",
      "5. doTryCatch(return(expr), name, parentenv, handler)\n",
      "6. withCallingHandlers({\n",
      " .     rpr <- mime2repr[[mime]](obj)\n",
      " .     if (is.null(rpr)) \n",
      " .         return(NULL)\n",
      " .     prepare_content(is.raw(rpr), rpr)\n",
      " . }, error = error_handler)\n",
      "7. mime2repr[[mime]](obj)\n",
      "8. repr_latex.list(obj)\n",
      "9. repr_list_generic(obj, \"latex\", \"\\\\item %s\\n\", \"\\\\item[\\\\$%s] %s\\n\", \n",
      " .     \"\\\\textbf{\\\\$%s} = %s\", enum_wrap = \"\\\\begin{enumerate}\\n%s\\\\end{enumerate}\\n\", \n",
      " .     named_wrap = \"\\\\begin{description}\\n%s\\\\end{description}\\n\", \n",
      " .     numeric_item = \"\\\\item[{[[%s]]}] %s\\n\", escape_fun = latex_escape)\n",
      "10. lapply(vec, format2repr[[fmt]])\n",
      "11. FUN(X[[i]], ...)\n",
      "12. repr_latex.numeric(X[[i]], ...)\n",
      "13. repr_vector_generic(latex_escape_names(obj), \"\\\\item %s\\n\", \"\\\\item[%s] %s\\n\", \n",
      "  .     \"\\\\textbf{%s:} %s\", enum_wrap = \"\\\\begin{enumerate*}\\n%s\\\\end{enumerate*}\\n\", \n",
      "  .     named_wrap = \"\\\\begin{description*}\\n%s\\\\end{description*}\\n\", \n",
      "  .     only_named_item = \"\\\\textbf{%s:} %s\", escape_fun = latex_escape)\n",
      "14. latex_escape_names(obj)\n",
      "15. .escape_names(obj, \"latex\")\n",
      "16. colnames(obj)\n"
     ]
    },
    {
     "data": {
      "text/html": [
       "<dl>\n",
       "\t<dt>$tub</dt>\n",
       "\t\t<dd><dl class=dl-horizontal>\n",
       "\t<dt>yes</dt>\n",
       "\t\t<dd>0.337715595223737</dd>\n",
       "\t<dt>no</dt>\n",
       "\t\t<dd>0.662284404776263</dd>\n",
       "</dl>\n",
       "</dd>\n",
       "\t<dt>$lung</dt>\n",
       "\t\t<dd><dl class=dl-horizontal>\n",
       "\t<dt>yes</dt>\n",
       "\t\t<dd>0.37148715474611</dd>\n",
       "\t<dt>no</dt>\n",
       "\t\t<dd>0.62851284525389</dd>\n",
       "</dl>\n",
       "</dd>\n",
       "\t<dt>$bronc</dt>\n",
       "\t\t<dd><dl class=dl-horizontal>\n",
       "\t<dt>yes</dt>\n",
       "\t\t<dd>0.491102227889105</dd>\n",
       "\t<dt>no</dt>\n",
       "\t\t<dd>0.508897772110895</dd>\n",
       "</dl>\n",
       "</dd>\n",
       "</dl>\n"
      ],
      "text/plain": [
       "$tub\n",
       "tub\n",
       "      yes        no \n",
       "0.3377156 0.6622844 \n",
       "\n",
       "$lung\n",
       "lung\n",
       "      yes        no \n",
       "0.3714872 0.6285128 \n",
       "\n",
       "$bronc\n",
       "bronc\n",
       "      yes        no \n",
       "0.4911022 0.5088978 \n"
      ]
     },
     "metadata": {},
     "output_type": "display_data"
    },
    {
     "data": {
      "text/plain": [
       "         bronc         yes          no\n",
       "tub lung                              \n",
       "yes yes        0.010638041 0.007936316\n",
       "    no         0.141333977 0.177807261\n",
       "no  yes        0.202122784 0.150790013\n",
       "    no         0.137007426 0.172364181"
      ]
     },
     "metadata": {},
     "output_type": "display_data"
    },
    {
     "name": "stdout",
     "output_type": "stream",
     "text": [
      "Displaying the joint probability for tub =yes, lung = yes and bronc = yes:  0.01063804"
     ]
    }
   ],
   "source": [
    "bnet.ev = setEvidence(bnet, nodes='asia',states=\"yes\")#creating new network by setting evidences asia and xray to yes\n",
    "bnet.ev = setEvidence(bnet.ev, nodes='xray',states=\"yes\")\n",
    "cat(\"Please ignore the below error, output is below that error\")\n",
    "querygrain(bnet.ev,nodes=c('tub','lung','bronc'))\n",
    "jp = querygrain(bnet.ev, nodes=c(\"tub\",\"lung\",\"bronc\"),type=\"joint\")#finding the joint probability of tub, lung and bronc\n",
    "ftable(jp)\n",
    "cat(\"Displaying the joint probability for tub =yes, lung = yes and bronc = yes: \", jp[1])"
   ]
  },
  {
   "cell_type": "code",
   "execution_count": null,
   "metadata": {},
   "outputs": [],
   "source": []
  }
 ],
 "metadata": {
  "kernelspec": {
   "display_name": "R",
   "language": "R",
   "name": "ir"
  },
  "language_info": {
   "codemirror_mode": "r",
   "file_extension": ".r",
   "mimetype": "text/x-r-source",
   "name": "R",
   "pygments_lexer": "r",
   "version": "3.4.3"
  }
 },
 "nbformat": 4,
 "nbformat_minor": 2
}
